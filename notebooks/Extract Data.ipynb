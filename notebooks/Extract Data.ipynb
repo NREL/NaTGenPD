{
 "cells": [
  {
   "cell_type": "code",
   "execution_count": 6,
   "metadata": {},
   "outputs": [],
   "source": [
    "import numpy as np\n",
    "import os\n",
    "import pandas as pd\n",
    "\n",
    "import sys\n",
    "\n",
    "pkg_dir = '/home/mrossol/NaTGenPD'\n",
    "sys.path.append(pkg_dir)\n",
    "import NaTGenPD as npd\n",
    "data_dir = '/projects/naris/CEMS'\n",
    "out_dir = os.path.join(data_dir, 'Filtered')"
   ]
  },
  {
   "cell_type": "code",
   "execution_count": 7,
   "metadata": {},
   "outputs": [
    {
     "data": {
      "text/plain": [
       "['Mappings',\n",
       " 'SMOKE_Clean_2016-2017.h5',\n",
       " 'SMOKE_Clean_2017.h5',\n",
       " 'CEMS_Fits',\n",
       " 'Filter_CEMS_2016-2017.log',\n",
       " 'Figures',\n",
       " 'analysis',\n",
       " '2016',\n",
       " 'Final_Fits',\n",
       " '2017',\n",
       " 'CEMS_2016-2017.log',\n",
       " 'SMOKE_Filtered_2016-2017.h5',\n",
       " 'Filtered',\n",
       " 'SMOKE_Clean_2016.h5']"
      ]
     },
     "execution_count": 7,
     "metadata": {},
     "output_type": "execute_result"
    }
   ],
   "source": [
    "os.listdir(data_dir)"
   ]
  },
  {
   "cell_type": "code",
   "execution_count": 26,
   "metadata": {},
   "outputs": [
    {
     "name": "stdout",
     "output_type": "stream",
     "text": [
      "Boiler-Coal\n",
      "Boiler-NG\n",
      "Boiler-Oil\n",
      "Boiler-Other_Solid_Fuel\n",
      "CC-Coal\n",
      "CC-NG\n",
      "CC-Oil\n",
      "CT-NG\n",
      "CT-Oil\n",
      "Cement_Kiln-Coal\n",
      "Process_Heater-NG\n",
      "Stoker-Coal\n",
      "Stoker-NG\n",
      "Stoker-Other_Solid_Fuel\n"
     ]
    }
   ],
   "source": [
    "h5_path = os.path.join(data_dir, 'SMOKE_Filtered_2016-2017.h5')\n",
    "with npd.CEMS(h5_path, 'r') as f:\n",
    "    for group in f.dsets:\n",
    "        f_name = group.strip(')').replace(' (', '-').replace(' ', '_')\n",
    "        f_out = os.path.join(out_dir, f_name + '.csv')\n",
    "        print(f_name)\n",
    "        df = f[group].df\n",
    "        if 'CC' not in group:\n",
    "            df = df.drop(columns='cts')\n",
    "        \n",
    "        df.to_csv(f_out, index=False)"
   ]
  },
  {
   "cell_type": "code",
   "execution_count": null,
   "metadata": {},
   "outputs": [],
   "source": []
  }
 ],
 "metadata": {
  "kernelspec": {
   "display_name": "Python [conda env:root] *",
   "language": "python",
   "name": "conda-root-py"
  },
  "language_info": {
   "codemirror_mode": {
    "name": "ipython",
    "version": 3
   },
   "file_extension": ".py",
   "mimetype": "text/x-python",
   "name": "python",
   "nbconvert_exporter": "python",
   "pygments_lexer": "ipython3",
   "version": "3.7.4"
  }
 },
 "nbformat": 4,
 "nbformat_minor": 2
}
