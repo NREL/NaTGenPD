{
 "cells": [
  {
   "cell_type": "code",
   "execution_count": 1,
   "metadata": {
    "ExecuteTime": {
     "end_time": "2019-12-09T18:19:22.742991Z",
     "start_time": "2019-12-09T18:19:18.314581Z"
    }
   },
   "outputs": [],
   "source": [
    "import numpy as np\n",
    "import os\n",
    "import pandas as pd\n",
    "\n",
    "import sys\n",
    "cwd = os.getcwd()\n",
    "pkg_dir = '/home/mrossol/NaTGenPD'\n",
    "pkg_dir = os.path.dirname(cwd)\n",
    "sys.path.append(pkg_dir)\n",
    "import NaTGenPD as npd\n",
    "from NaTGenPD.poly_fit import GenericFit\n",
    "from NaTGenPD.cli import setup_logger\n",
    "data_dir = '/projects/naris/CEMS'\n",
    "filtered_dir = os.path.join(data_dir, 'Filtered')\n",
    "\n",
    "data_dir = os.path.join(pkg_dir, 'data')\n",
    "generic_dir = os.path.join(data_dir, 'poly_fits/generic_fits')\n",
    "if not os.path.exists(generic_dir):\n",
    "    os.makedirs(generic_dir)\n",
    "\n",
    "logger = setup_logger('NaTGenPD')"
   ]
  },
  {
   "cell_type": "code",
   "execution_count": 2,
   "metadata": {
    "ExecuteTime": {
     "end_time": "2019-12-09T18:19:22.834996Z",
     "start_time": "2019-12-09T18:19:22.807766Z"
    }
   },
   "outputs": [
    {
     "data": {
      "text/plain": [
       "['poly_fits', 'piecewise_fits']"
      ]
     },
     "execution_count": 2,
     "metadata": {},
     "output_type": "execute_result"
    }
   ],
   "source": [
    "os.listdir(data_dir)"
   ]
  },
  {
   "cell_type": "markdown",
   "metadata": {},
   "source": [
    "# Generic Fits"
   ]
  },
  {
   "cell_type": "code",
   "execution_count": 2,
   "metadata": {
    "ExecuteTime": {
     "end_time": "2019-11-01T15:15:45.815530Z",
     "start_time": "2019-11-01T15:15:45.386464Z"
    }
   },
   "outputs": [
    {
     "name": "stderr",
     "output_type": "stream",
     "text": [
      "INFO - 2019-11-01 09:15:45,412 [poly_fit.py:311] : Creating Generic Fit for Boiler (Coal)\n",
      "/Users/mrossol/Git_Repos/NaTGenPD/NaTGenPD/poly_fit.py:274: FutureWarning: Method .as_matrix will be removed in a future version. Use .values instead.\n",
      "  load_maxs = group_fits.as_matrix(['load_max'])\n",
      "/Users/mrossol/Git_Repos/NaTGenPD/NaTGenPD/poly_fit.py:276: FutureWarning: Method .as_matrix will be removed in a future version. Use .values instead.\n",
      "  fit_params = group_fits.as_matrix(['a4', 'a3', 'a2', 'a1', 'a0'])\n",
      "INFO - 2019-11-01 09:15:45,480 [poly_fit.py:311] : Creating Generic Fit for Boiler (NG)\n",
      "INFO - 2019-11-01 09:15:45,500 [poly_fit.py:311] : Creating Generic Fit for Boiler (Oil)\n",
      "INFO - 2019-11-01 09:15:45,513 [poly_fit.py:311] : Creating Generic Fit for Boiler (Other Solid Fuel)\n",
      "INFO - 2019-11-01 09:15:45,533 [poly_fit.py:311] : Creating Generic Fit for CC (Coal)\n",
      "INFO - 2019-11-01 09:15:45,566 [poly_fit.py:311] : Creating Generic Fit for CC (NG)\n",
      "INFO - 2019-11-01 09:15:45,634 [poly_fit.py:311] : Creating Generic Fit for CC (Oil)\n",
      "INFO - 2019-11-01 09:15:45,659 [poly_fit.py:311] : Creating Generic Fit for CT (NG)\n",
      "INFO - 2019-11-01 09:15:45,712 [poly_fit.py:311] : Creating Generic Fit for CT (Oil)\n",
      "INFO - 2019-11-01 09:15:45,736 [poly_fit.py:311] : Creating Generic Fit for Cement Kiln (Coal)\n",
      "WARNING - 2019-11-01 09:15:45,738 [poly_fit.py:292] : - Cannot create a generic curve, no valid units present!\n",
      "/Users/mrossol/Git_Repos/NaTGenPD/NaTGenPD/poly_fit.py:293: UserWarning: - Cannot create a generic curve, no valid units present!\n",
      "  warnings.warn(msg)\n",
      "INFO - 2019-11-01 09:15:45,758 [poly_fit.py:311] : Creating Generic Fit for Process Heater (NG)\n",
      "WARNING - 2019-11-01 09:15:45,760 [poly_fit.py:292] : - Cannot create a generic curve, no valid units present!\n",
      "INFO - 2019-11-01 09:15:45,772 [poly_fit.py:311] : Creating Generic Fit for Stoker (Coal)\n",
      "WARNING - 2019-11-01 09:15:45,777 [poly_fit.py:292] : - Cannot create a generic curve, no valid units present!\n",
      "INFO - 2019-11-01 09:15:45,788 [poly_fit.py:311] : Creating Generic Fit for Stoker (NG)\n",
      "WARNING - 2019-11-01 09:15:45,790 [poly_fit.py:292] : - Cannot create a generic curve, no valid units present!\n",
      "INFO - 2019-11-01 09:15:45,802 [poly_fit.py:311] : Creating Generic Fit for Stoker (Other Solid Fuel)\n"
     ]
    }
   ],
   "source": [
    "fit_dir = os.path.join(data_dir, 'poly_fits')\n",
    "GenericFit.run(fit_dir, generic_dir)"
   ]
  },
  {
   "cell_type": "markdown",
   "metadata": {},
   "source": [
    "# Filtered Data"
   ]
  },
  {
   "cell_type": "code",
   "execution_count": 26,
   "metadata": {},
   "outputs": [
    {
     "name": "stdout",
     "output_type": "stream",
     "text": [
      "Boiler-Coal\n",
      "Boiler-NG\n",
      "Boiler-Oil\n",
      "Boiler-Other_Solid_Fuel\n",
      "CC-Coal\n",
      "CC-NG\n",
      "CC-Oil\n",
      "CT-NG\n",
      "CT-Oil\n",
      "Cement_Kiln-Coal\n",
      "Process_Heater-NG\n",
      "Stoker-Coal\n",
      "Stoker-NG\n",
      "Stoker-Other_Solid_Fuel\n"
     ]
    }
   ],
   "source": [
    "h5_path = os.path.join(data_dir, 'SMOKE_Filtered_2016-2017.h5')\n",
    "with npd.CEMS(h5_path, 'r') as f:\n",
    "    for group in f.dsets:\n",
    "        f_name = group.strip(')').replace(' (', '-').replace(' ', '_')\n",
    "        f_out = os.path.join(filtered_dir, f_name + '.csv')\n",
    "        print(f_name)\n",
    "        df = f[group].df\n",
    "        if 'CC' not in group:\n",
    "            df = df.drop(columns='cts')\n",
    "        \n",
    "        df.to_csv(f_out, index=False)"
   ]
  },
  {
   "cell_type": "markdown",
   "metadata": {},
   "source": [
    "# Piecewise Fits"
   ]
  },
  {
   "cell_type": "code",
   "execution_count": 28,
   "metadata": {
    "ExecuteTime": {
     "end_time": "2019-12-09T19:55:05.575194Z",
     "start_time": "2019-12-09T19:55:05.554492Z"
    }
   },
   "outputs": [],
   "source": [
    "def extract_best_fit(row):\n",
    "    best_fit = int(row['min_aicc'])\n",
    "    fit_cols = ['group_type','unit_id', 'cluster']\n",
    "    col = '{}_b'.format(best_fit)\n",
    "    fit_cols.append(col)\n",
    "    rename_cols = {col : 'heat_rate_base'}\n",
    "    for i in range(1, best_fit + 1):\n",
    "        col = \"{}_m{}\".format(best_fit, i)\n",
    "        fit_cols.append(col)\n",
    "        rename_cols[col] = 'heat_rate_incr{}'.format(i)\n",
    "        \n",
    "        col = \"{}_x{}\".format(best_fit, i)\n",
    "        fit_cols.append(col)\n",
    "        rename_cols[col] = 'load_point{}'.format(i)\n",
    "    \n",
    "    row = row[fit_cols]\n",
    "    row = row.rename(rename_cols)\n",
    "    return row\n",
    "\n",
    "\n",
    "def reformat_piecewise_fit(piecewise_fits, poly_fits, out_path):\n",
    "    piecewise_fits = pd.read_csv(piecewise_fits)\n",
    "    if '2_x3' in piecewise_fits:\n",
    "        piecewise_fits = piecewise_fits.rename(columns={'2_x3': '3_x3'})\n",
    "    \n",
    "    piecewise_fits = piecewise_fits.apply(extract_best_fit, axis=1)\n",
    "    col_order = ['unit_id', 'group_type', 'cluster',  'heat_rate_base',\n",
    "                 'heat_rate_incr1', 'load_point1',\n",
    "                 'heat_rate_incr2', 'load_point2',\n",
    "                 'heat_rate_incr3', 'load_point3']\n",
    "    col_order = [c for c in col_order if c in piecewise_fits]\n",
    "\n",
    "    merge_cols = ['unit_id', 'latitude', 'longitude',\n",
    "                  'state', 'EPA_region', 'NERC_region',\n",
    "                  'unit_type', 'fuel_type']\n",
    "    \n",
    "    poly_fits = pd.read_csv(poly_fits)\n",
    "    piecewise_fits = pd.merge(piecewise_fits[col_order], poly_fits[merge_cols],\n",
    "                              on='unit_id', how='left')\n",
    "    \n",
    "    piecewise_fits.to_csv(out_path, index=None)"
   ]
  },
  {
   "cell_type": "code",
   "execution_count": 29,
   "metadata": {
    "ExecuteTime": {
     "end_time": "2019-12-09T19:55:14.086329Z",
     "start_time": "2019-12-09T19:55:07.736291Z"
    }
   },
   "outputs": [
    {
     "name": "stdout",
     "output_type": "stream",
     "text": [
      "CT (Oil)_linpiecewise_fits.csv processed\n",
      "CC (Coal)_linpiecewise_fits.csv processed\n",
      "CC (NG)_linpiecewise_fits.csv processed\n",
      "CC (Oil)_linpiecewise_fits.csv processed\n",
      "CT (NG)_linpiecewise_fits.csv processed\n",
      "Boiler (Other Solid Fuel)_linpiecewise_fits.csv processed\n",
      "Boiler (Coal)_linpiecewise_fits.csv processed\n",
      "Boiler (Oil)_linpiecewise_fits.csv processed\n",
      "Stoker (Other Solid Fuel)_linpiecewise_fits.csv processed\n",
      "Boiler (NG)_linpiecewise_fits.csv processed\n"
     ]
    }
   ],
   "source": [
    "out_dir = os.path.join(data_dir, 'piecewise_fits')\n",
    "piecewise_dir = os.path.join(out_dir, 'all_fits')\n",
    "poly_dir = os.path.join(data_dir, 'poly_fits')\n",
    "for fname in os.listdir(piecewise_dir):\n",
    "    group_name = fname.split('_')[0]\n",
    "    in_path = os.path.join(piecewise_dir, fname)\n",
    "    poly_path = os.path.join(poly_dir, '{}_fits.csv'.format(group_name))\n",
    "    out_path = os.path.join(out_dir, '{}_piecewise_fits.csv'.format(group_name))\n",
    "    reformat_piecewise_fit(in_path, poly_path, out_path)\n",
    "    print('{} processed'.format(fname))"
   ]
  },
  {
   "cell_type": "code",
   "execution_count": null,
   "metadata": {},
   "outputs": [],
   "source": []
  }
 ],
 "metadata": {
  "kernelspec": {
   "display_name": "Python [conda env:root] *",
   "language": "python",
   "name": "conda-root-py"
  },
  "language_info": {
   "codemirror_mode": {
    "name": "ipython",
    "version": 3
   },
   "file_extension": ".py",
   "mimetype": "text/x-python",
   "name": "python",
   "nbconvert_exporter": "python",
   "pygments_lexer": "ipython3",
   "version": "3.7.3"
  }
 },
 "nbformat": 4,
 "nbformat_minor": 2
}
